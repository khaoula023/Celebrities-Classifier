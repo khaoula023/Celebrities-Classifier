{
 "cells": [
  {
   "cell_type": "code",
   "execution_count": 2,
   "id": "3b232f39",
   "metadata": {
    "_cell_guid": "b1076dfc-b9ad-4769-8c92-a6c4dae69d19",
    "_uuid": "8f2839f25d086af736a60e9eeb907d3b93b6e0e5",
    "execution": {
     "iopub.execute_input": "2024-11-25T09:00:36.647736Z",
     "iopub.status.busy": "2024-11-25T09:00:36.647330Z",
     "iopub.status.idle": "2024-11-25T09:00:53.597074Z",
     "shell.execute_reply": "2024-11-25T09:00:53.595458Z"
    },
    "papermill": {
     "duration": 16.960339,
     "end_time": "2024-11-25T09:00:53.600155",
     "exception": false,
     "start_time": "2024-11-25T09:00:36.639816",
     "status": "completed"
    },
    "tags": []
   },
   "outputs": [
    {
     "ename": "ModuleNotFoundError",
     "evalue": "No module named 'tensorflow'",
     "output_type": "error",
     "traceback": [
      "\u001b[1;31m---------------------------------------------------------------------------\u001b[0m",
      "\u001b[1;31mModuleNotFoundError\u001b[0m                       Traceback (most recent call last)",
      "Cell \u001b[1;32mIn[2], line 3\u001b[0m\n\u001b[0;32m      1\u001b[0m \u001b[38;5;28;01mimport\u001b[39;00m \u001b[38;5;21;01mnumpy\u001b[39;00m \u001b[38;5;28;01mas\u001b[39;00m \u001b[38;5;21;01mnp\u001b[39;00m\n\u001b[0;32m      2\u001b[0m \u001b[38;5;28;01mfrom\u001b[39;00m \u001b[38;5;21;01mmatplotlib\u001b[39;00m \u001b[38;5;28;01mimport\u001b[39;00m pyplot \u001b[38;5;28;01mas\u001b[39;00m plt\n\u001b[1;32m----> 3\u001b[0m \u001b[38;5;28;01mimport\u001b[39;00m \u001b[38;5;21;01mtensorflow\u001b[39;00m \u001b[38;5;28;01mas\u001b[39;00m \u001b[38;5;21;01mtf\u001b[39;00m\n\u001b[0;32m      4\u001b[0m \u001b[38;5;28;01mimport\u001b[39;00m \u001b[38;5;21;01mrandom\u001b[39;00m\n\u001b[0;32m      5\u001b[0m \u001b[38;5;28;01mimport\u001b[39;00m \u001b[38;5;21;01mmath\u001b[39;00m\n",
      "\u001b[1;31mModuleNotFoundError\u001b[0m: No module named 'tensorflow'"
     ]
    }
   ],
   "source": [
    "import numpy as np\n",
    "from matplotlib import pyplot as plt\n",
    "import tensorflow as tf\n",
    "import random\n",
    "import math\n",
    "import os\n",
    "import cv2\n",
    "from sklearn.model_selection import train_test_split\n",
    "from sklearn.utils import shuffle\n",
    "from tensorflow.keras.models import Sequential\n",
    "from tensorflow.keras.layers import Conv2D, MaxPooling2D, Dense, Flatten,BatchNormalization,Dropout\n"
   ]
  },
  {
   "cell_type": "code",
   "execution_count": 2,
   "id": "3618ab16",
   "metadata": {
    "execution": {
     "iopub.execute_input": "2024-11-25T09:00:53.615680Z",
     "iopub.status.busy": "2024-11-25T09:00:53.615025Z",
     "iopub.status.idle": "2024-11-25T09:00:53.631735Z",
     "shell.execute_reply": "2024-11-25T09:00:53.630248Z"
    },
    "papermill": {
     "duration": 0.027238,
     "end_time": "2024-11-25T09:00:53.634244",
     "exception": false,
     "start_time": "2024-11-25T09:00:53.607006",
     "status": "completed"
    },
    "tags": []
   },
   "outputs": [
    {
     "data": {
      "text/plain": [
       "<Figure size 640x480 with 0 Axes>"
      ]
     },
     "metadata": {},
     "output_type": "display_data"
    }
   ],
   "source": [
    "plt.set_cmap('gray')"
   ]
  },
  {
   "cell_type": "markdown",
   "id": "3ba408ff",
   "metadata": {
    "papermill": {
     "duration": 0.005201,
     "end_time": "2024-11-25T09:00:53.645100",
     "exception": false,
     "start_time": "2024-11-25T09:00:53.639899",
     "status": "completed"
    },
    "tags": []
   },
   "source": [
    "# Loading the dataset: "
   ]
  },
  {
   "cell_type": "code",
   "execution_count": 3,
   "id": "2f1811c7",
   "metadata": {
    "execution": {
     "iopub.execute_input": "2024-11-25T09:00:53.657760Z",
     "iopub.status.busy": "2024-11-25T09:00:53.657371Z",
     "iopub.status.idle": "2024-11-25T09:00:53.664886Z",
     "shell.execute_reply": "2024-11-25T09:00:53.663687Z"
    },
    "papermill": {
     "duration": 0.016877,
     "end_time": "2024-11-25T09:00:53.667431",
     "exception": false,
     "start_time": "2024-11-25T09:00:53.650554",
     "status": "completed"
    },
    "tags": []
   },
   "outputs": [],
   "source": [
    "def display(images,a):\n",
    "        m,n = 1, int(len(images)/a)\n",
    "        for i in range(0,len(images),m*n):\n",
    "            fig = plt.figure(figsize=(15,8))\n",
    "            for j in range(m*n):\n",
    "                fig.add_subplot(m,n,j+1)\n",
    "                plt.imshow(images[i+j])\n",
    "                plt.axis('off')\n",
    "            plt.show()"
   ]
  },
  {
   "cell_type": "code",
   "execution_count": 4,
   "id": "8160bfae",
   "metadata": {
    "execution": {
     "iopub.execute_input": "2024-11-25T09:00:53.680882Z",
     "iopub.status.busy": "2024-11-25T09:00:53.680440Z",
     "iopub.status.idle": "2024-11-25T09:00:53.687230Z",
     "shell.execute_reply": "2024-11-25T09:00:53.686262Z"
    },
    "papermill": {
     "duration": 0.01651,
     "end_time": "2024-11-25T09:00:53.689732",
     "exception": false,
     "start_time": "2024-11-25T09:00:53.673222",
     "status": "completed"
    },
    "tags": []
   },
   "outputs": [],
   "source": [
    "def split_data(data,y,n):\n",
    "  images = []\n",
    "  Y = np.array([4])\n",
    "  for i in np.unique(y):\n",
    "    cl = np.where(y == i)\n",
    "    indx = np.random.choice(cl[0],size = n,replace = False)\n",
    "    images.append(data[indx,:])\n",
    "    Y = np.append(Y,np.full(n,i))\n",
    "  tr = []\n",
    "  for l in images:\n",
    "    for item in l:\n",
    "      tr.append(item)\n",
    "  tr = np.array(tr)\n",
    "  return tr,Y[1:]\n"
   ]
  },
  {
   "cell_type": "code",
   "execution_count": 5,
   "id": "95737a4a",
   "metadata": {
    "execution": {
     "iopub.execute_input": "2024-11-25T09:00:53.703723Z",
     "iopub.status.busy": "2024-11-25T09:00:53.703343Z",
     "iopub.status.idle": "2024-11-25T09:00:53.708863Z",
     "shell.execute_reply": "2024-11-25T09:00:53.707590Z"
    },
    "papermill": {
     "duration": 0.014661,
     "end_time": "2024-11-25T09:00:53.711313",
     "exception": false,
     "start_time": "2024-11-25T09:00:53.696652",
     "status": "completed"
    },
    "tags": []
   },
   "outputs": [],
   "source": [
    "import glob\n",
    "data = glob.glob('notebook/dataset/*/*.jpg')"
   ]
  },
  {
   "cell_type": "markdown",
   "id": "7884e44a",
   "metadata": {
    "papermill": {
     "duration": 0.005216,
     "end_time": "2024-11-25T09:00:53.722138",
     "exception": false,
     "start_time": "2024-11-25T09:00:53.716922",
     "status": "completed"
    },
    "tags": []
   },
   "source": [
    "# Data Cleaning:"
   ]
  },
  {
   "cell_type": "markdown",
   "id": "27777d28",
   "metadata": {
    "papermill": {
     "duration": 0.004909,
     "end_time": "2024-11-25T09:00:53.732457",
     "exception": false,
     "start_time": "2024-11-25T09:00:53.727548",
     "status": "completed"
    },
    "tags": []
   },
   "source": [
    "## We only use images that clearly display the face and both eyes: "
   ]
  },
  {
   "cell_type": "code",
   "execution_count": 6,
   "id": "ebf1b7ae",
   "metadata": {
    "execution": {
     "iopub.execute_input": "2024-11-25T09:00:53.744937Z",
     "iopub.status.busy": "2024-11-25T09:00:53.744558Z",
     "iopub.status.idle": "2024-11-25T09:00:53.794179Z",
     "shell.execute_reply": "2024-11-25T09:00:53.792857Z"
    },
    "papermill": {
     "duration": 0.058804,
     "end_time": "2024-11-25T09:00:53.796749",
     "exception": false,
     "start_time": "2024-11-25T09:00:53.737945",
     "status": "completed"
    },
    "tags": []
   },
   "outputs": [],
   "source": [
    "# Load the pre-trained Haar cascade classifier for face detection\n",
    "face_cascade = cv2.CascadeClassifier(cv2.data.haarcascades + 'haarcascade_frontalface_default.xml')\n",
    "eye_cascade = cv2.CascadeClassifier(cv2.data.haarcascades + 'haarcascade_eye.xml')"
   ]
  },
  {
   "cell_type": "code",
   "execution_count": 7,
   "id": "ad9924a6",
   "metadata": {
    "execution": {
     "iopub.execute_input": "2024-11-25T09:00:53.810319Z",
     "iopub.status.busy": "2024-11-25T09:00:53.809890Z",
     "iopub.status.idle": "2024-11-25T09:00:53.818232Z",
     "shell.execute_reply": "2024-11-25T09:00:53.816979Z"
    },
    "papermill": {
     "duration": 0.018411,
     "end_time": "2024-11-25T09:00:53.820735",
     "exception": false,
     "start_time": "2024-11-25T09:00:53.802324",
     "status": "completed"
    },
    "tags": []
   },
   "outputs": [],
   "source": [
    "# the function that detect the face in the image:\n",
    "def detect_face(image_path):\n",
    "    img = cv2.imread(image_path)\n",
    "    if img is not None:\n",
    "        gray = cv2.cvtColor(img, cv2.COLOR_BGR2GRAY)\n",
    "        # Detect faces in the image\n",
    "        faces = face_cascade.detectMultiScale(gray, scaleFactor=1.1, minNeighbors=5, minSize=(30, 30))\n",
    "        for (x,y,w,h) in faces:\n",
    "            roi_gray = gray[y:y+h,x:x+w]\n",
    "            roi_color = img[y:y+h,x:x+w]\n",
    "            eyes = eye_cascade.detectMultiScale(roi_gray)\n",
    "            if len(eyes) ==2:\n",
    "                return roi_color"
   ]
  },
  {
   "cell_type": "code",
   "execution_count": 8,
   "id": "61ce58b8",
   "metadata": {
    "execution": {
     "iopub.execute_input": "2024-11-25T09:00:53.833485Z",
     "iopub.status.busy": "2024-11-25T09:00:53.833054Z",
     "iopub.status.idle": "2024-11-25T09:00:54.642819Z",
     "shell.execute_reply": "2024-11-25T09:00:54.641135Z"
    },
    "papermill": {
     "duration": 0.818534,
     "end_time": "2024-11-25T09:00:54.644973",
     "exception": true,
     "start_time": "2024-11-25T09:00:53.826439",
     "status": "failed"
    },
    "tags": []
   },
   "outputs": [
    {
     "ename": "FileNotFoundError",
     "evalue": "[Errno 2] No such file or directory: '/kaggle/input/celeberties-dataset'",
     "output_type": "error",
     "traceback": [
      "\u001b[0;31m---------------------------------------------------------------------------\u001b[0m",
      "\u001b[0;31mFileNotFoundError\u001b[0m                         Traceback (most recent call last)",
      "Cell \u001b[0;32mIn[8], line 4\u001b[0m\n\u001b[1;32m      2\u001b[0m data_path \u001b[38;5;241m=\u001b[39m \u001b[38;5;124m'\u001b[39m\u001b[38;5;124m/kaggle/input/celeberties-dataset\u001b[39m\u001b[38;5;124m'\u001b[39m\n\u001b[1;32m      3\u001b[0m img_dirs \u001b[38;5;241m=\u001b[39m []\n\u001b[0;32m----> 4\u001b[0m \u001b[38;5;28;01mfor\u001b[39;00m entry \u001b[38;5;129;01min\u001b[39;00m \u001b[43mos\u001b[49m\u001b[38;5;241;43m.\u001b[39;49m\u001b[43mscandir\u001b[49m\u001b[43m(\u001b[49m\u001b[43mdata_path\u001b[49m\u001b[43m)\u001b[49m:\n\u001b[1;32m      5\u001b[0m     \u001b[38;5;28;01mif\u001b[39;00m entry\u001b[38;5;241m.\u001b[39mis_dir():\n\u001b[1;32m      6\u001b[0m         img_dirs\u001b[38;5;241m.\u001b[39mappend(entry\u001b[38;5;241m.\u001b[39mpath)\n",
      "\u001b[0;31mFileNotFoundError\u001b[0m: [Errno 2] No such file or directory: '/kaggle/input/celeberties-dataset'"
     ]
    }
   ],
   "source": [
    "import os\n",
    "data_path = '/kaggle/input/celeberties-dataset'\n",
    "img_dirs = []\n",
    "for entry in os.scandir(data_path):\n",
    "    if entry.is_dir():\n",
    "        img_dirs.append(entry.path)\n",
    "\n",
    "img_dirs"
   ]
  },
  {
   "cell_type": "code",
   "execution_count": null,
   "id": "329a65ca",
   "metadata": {
    "execution": {
     "iopub.execute_input": "2024-11-23T18:13:38.614706Z",
     "iopub.status.busy": "2024-11-23T18:13:38.614308Z",
     "iopub.status.idle": "2024-11-23T18:20:52.548613Z",
     "shell.execute_reply": "2024-11-23T18:20:52.546833Z",
     "shell.execute_reply.started": "2024-11-23T18:13:38.614672Z"
    },
    "papermill": {
     "duration": null,
     "end_time": null,
     "exception": null,
     "start_time": null,
     "status": "pending"
    },
    "tags": []
   },
   "outputs": [],
   "source": [
    "import shutil\n",
    "if os.path.exists(data_path):\n",
    "     shutil.rmtree(path_to_cr_data)\n",
    "os.mkdir(path_to_cr_data)\n",
    "cropped_image_dirs = []\n",
    "celebrity_file_names_dict = {}\n",
    "for img_dir in img_dirs:\n",
    "    count = 1\n",
    "    celebrity_name = img_dir.split('/')[-1]\n",
    "    celebrity_file_names_dict[celebrity_name] = []\n",
    "    for entry in os.scandir(img_dir):\n",
    "        roi_color = get_cropped_image_if_2_eyes(entry.path)\n",
    "        if roi_color is not None:\n",
    "            cropped_folder = path_to_cr_data + celebrity_name\n",
    "            if not os.path.exists(cropped_folder):\n",
    "                os.makedirs(cropped_folder)\n",
    "                cropped_image_dirs.append(cropped_folder)\n",
    "                print(\"Generating cropped images in folder: \",cropped_folder)\n",
    "            cropped_file_name = celebrity_name + str(count) + \".png\"\n",
    "            cropped_file_path = cropped_folder + \"/\" + cropped_file_name\n",
    "            cv2.imwrite(cropped_file_path, roi_color)\n",
    "            celebrity_file_names_dict[celebrity_name].append(cropped_file_path)\n",
    "            count += 1"
   ]
  },
  {
   "cell_type": "code",
   "execution_count": null,
   "id": "c08aac92",
   "metadata": {
    "execution": {
     "iopub.status.busy": "2024-11-23T18:13:24.699667Z",
     "iopub.status.idle": "2024-11-23T18:13:24.700005Z",
     "shell.execute_reply": "2024-11-23T18:13:24.699864Z",
     "shell.execute_reply.started": "2024-11-23T18:13:24.699846Z"
    },
    "papermill": {
     "duration": null,
     "end_time": null,
     "exception": null,
     "start_time": null,
     "status": "pending"
    },
    "tags": []
   },
   "outputs": [],
   "source": [
    "images = [plt.imread(img) for img in dataset]\n",
    "\n",
    "# Display a subset of the images\n",
    "display(images[2:10], 1)"
   ]
  },
  {
   "cell_type": "markdown",
   "id": "d643ec85",
   "metadata": {
    "papermill": {
     "duration": null,
     "end_time": null,
     "exception": null,
     "start_time": null,
     "status": "pending"
    },
    "tags": []
   },
   "source": [
    "# Labeled the images:"
   ]
  },
  {
   "cell_type": "code",
   "execution_count": null,
   "id": "ddec970f",
   "metadata": {
    "execution": {
     "iopub.status.busy": "2024-11-23T18:13:24.701440Z",
     "iopub.status.idle": "2024-11-23T18:13:24.701937Z",
     "shell.execute_reply": "2024-11-23T18:13:24.701718Z",
     "shell.execute_reply.started": "2024-11-23T18:13:24.701691Z"
    },
    "papermill": {
     "duration": null,
     "end_time": null,
     "exception": null,
     "start_time": null,
     "status": "pending"
    },
    "tags": []
   },
   "outputs": [],
   "source": [
    "# Create a mapping for labels\n",
    "label_map = {'Mahira Khan': 0, 'Han Ye-seul': 1, 'Riyad Mahrez': 2, 'Elyas MBarek': 3, 'Ramy Youssef': 4}\n",
    "\n",
    "# Assign labels using a list comprehension\n",
    "Y = np.array([label_map[x.split('/')[-2]] for x in data])\n",
    "\n",
    "# Convert images to numpy array (if not already)\n",
    "images = np.array(images)\n",
    "\n",
    "# Shuffle the dataset\n",
    "images, Y = shuffle(images, Y, random_state=0)\n"
   ]
  },
  {
   "cell_type": "markdown",
   "id": "fbf06d33",
   "metadata": {
    "papermill": {
     "duration": null,
     "end_time": null,
     "exception": null,
     "start_time": null,
     "status": "pending"
    },
    "tags": []
   },
   "source": [
    "# Split the images into train and test:"
   ]
  },
  {
   "cell_type": "code",
   "execution_count": null,
   "id": "3c323ee7",
   "metadata": {
    "execution": {
     "iopub.status.busy": "2024-11-23T18:13:24.703685Z",
     "iopub.status.idle": "2024-11-23T18:13:24.704200Z",
     "shell.execute_reply": "2024-11-23T18:13:24.703952Z",
     "shell.execute_reply.started": "2024-11-23T18:13:24.703925Z"
    },
    "papermill": {
     "duration": null,
     "end_time": null,
     "exception": null,
     "start_time": null,
     "status": "pending"
    },
    "tags": []
   },
   "outputs": [],
   "source": [
    "train,test ,ytrain,ytest =train_test_split(images, Y, train_size=0.8)"
   ]
  },
  {
   "cell_type": "markdown",
   "id": "40be4353",
   "metadata": {
    "papermill": {
     "duration": null,
     "end_time": null,
     "exception": null,
     "start_time": null,
     "status": "pending"
    },
    "tags": []
   },
   "source": [
    "# CNN model:"
   ]
  },
  {
   "cell_type": "code",
   "execution_count": null,
   "id": "4ea86b9e",
   "metadata": {
    "execution": {
     "iopub.status.busy": "2024-11-23T18:13:24.705569Z",
     "iopub.status.idle": "2024-11-23T18:13:24.705946Z",
     "shell.execute_reply": "2024-11-23T18:13:24.705798Z",
     "shell.execute_reply.started": "2024-11-23T18:13:24.705779Z"
    },
    "papermill": {
     "duration": null,
     "end_time": null,
     "exception": null,
     "start_time": null,
     "status": "pending"
    },
    "tags": []
   },
   "outputs": [],
   "source": [
    "CNN = Sequential()\n",
    "\n",
    "CNN.add(Conv2D(32,(3,3),1,activation = 'relu',input_shape=(128,128,3)))\n",
    "CNN.add(Conv2D(64,(3,3),1,activation = 'relu'))#,padding = 'same',kernel_regularizer = regularizers.l2(0.01)))\n",
    "CNN.add(MaxPooling2D())\n",
    "CNN.add(BatchNormalization())\n",
    "\n",
    "CNN.add(Conv2D(128,(3,3),1,activation = 'relu'))#,padding = 'same',kernel_regularizer = regularizers.l2(0.01)))\n",
    "CNN.add(MaxPooling2D())\n",
    "CNN.add(Dropout(0.6))\n",
    "CNN.add(Conv2D(128,(3,3),1,activation = 'relu'))#,padding = 'same',kernel_regularizer = regularizers.l2(0.01)))\n",
    "CNN.add(MaxPooling2D())\n",
    "CNN.add(BatchNormalization())\n",
    "\n",
    "CNN.add(Flatten())\n",
    "CNN.add(Dropout(0.2))\n",
    "CNN.add(Dense(256,activation='relu'))#,kernel_regularizer = regularizers.l2(0.01)))\n",
    "CNN.add(BatchNormalization())\n",
    "CNN.add(Dense(5,activation = 'softmax'))"
   ]
  },
  {
   "cell_type": "code",
   "execution_count": null,
   "id": "483e47c5",
   "metadata": {
    "execution": {
     "iopub.status.busy": "2024-11-23T18:13:24.707279Z",
     "iopub.status.idle": "2024-11-23T18:13:24.707645Z",
     "shell.execute_reply": "2024-11-23T18:13:24.707492Z",
     "shell.execute_reply.started": "2024-11-23T18:13:24.707474Z"
    },
    "papermill": {
     "duration": null,
     "end_time": null,
     "exception": null,
     "start_time": null,
     "status": "pending"
    },
    "tags": []
   },
   "outputs": [],
   "source": [
    "opt = tf.keras.optimizers.Adam(clipvalue = 0.5)\n",
    "CNN.compile(optimizer =opt2,loss = tf.losses.SparseCategoricalCrossentropy(),metrics = ['accuracy'])"
   ]
  },
  {
   "cell_type": "code",
   "execution_count": null,
   "id": "473d72ef",
   "metadata": {
    "execution": {
     "iopub.status.busy": "2024-11-23T18:13:24.708854Z",
     "iopub.status.idle": "2024-11-23T18:13:24.709247Z",
     "shell.execute_reply": "2024-11-23T18:13:24.709056Z",
     "shell.execute_reply.started": "2024-11-23T18:13:24.709037Z"
    },
    "papermill": {
     "duration": null,
     "end_time": null,
     "exception": null,
     "start_time": null,
     "status": "pending"
    },
    "tags": []
   },
   "outputs": [],
   "source": [
    "CNN.summary()"
   ]
  },
  {
   "cell_type": "markdown",
   "id": "99ba3258",
   "metadata": {
    "papermill": {
     "duration": null,
     "end_time": null,
     "exception": null,
     "start_time": null,
     "status": "pending"
    },
    "tags": []
   },
   "source": [
    "# Train the model:"
   ]
  },
  {
   "cell_type": "code",
   "execution_count": null,
   "id": "ce3798fb",
   "metadata": {
    "execution": {
     "iopub.status.busy": "2024-11-23T18:13:24.710652Z",
     "iopub.status.idle": "2024-11-23T18:13:24.710986Z",
     "shell.execute_reply": "2024-11-23T18:13:24.710834Z",
     "shell.execute_reply.started": "2024-11-23T18:13:24.710818Z"
    },
    "papermill": {
     "duration": null,
     "end_time": null,
     "exception": null,
     "start_time": null,
     "status": "pending"
    },
    "tags": []
   },
   "outputs": [],
   "source": [
    "hist = CNN.fit(img_train,Target.reshape(-1,1),epochs = 50, validation_split=0.15)"
   ]
  },
  {
   "cell_type": "markdown",
   "id": "4eaff03f",
   "metadata": {
    "papermill": {
     "duration": null,
     "end_time": null,
     "exception": null,
     "start_time": null,
     "status": "pending"
    },
    "tags": []
   },
   "source": [
    "# Plot the results:"
   ]
  },
  {
   "cell_type": "code",
   "execution_count": null,
   "id": "6d028fdd",
   "metadata": {
    "execution": {
     "iopub.status.busy": "2024-11-23T18:13:24.712473Z",
     "iopub.status.idle": "2024-11-23T18:13:24.712849Z",
     "shell.execute_reply": "2024-11-23T18:13:24.712689Z",
     "shell.execute_reply.started": "2024-11-23T18:13:24.712670Z"
    },
    "papermill": {
     "duration": null,
     "end_time": null,
     "exception": null,
     "start_time": null,
     "status": "pending"
    },
    "tags": []
   },
   "outputs": [],
   "source": [
    "plt.plot(hist.history['loss'], label= 'train loss')\n",
    "plt.plot(hist.history['val_loss'], label= 'val loss')\n",
    "plt.legend()\n",
    "plt.show()"
   ]
  },
  {
   "cell_type": "code",
   "execution_count": null,
   "id": "8d534de5",
   "metadata": {
    "execution": {
     "iopub.status.busy": "2024-11-23T18:13:24.713787Z",
     "iopub.status.idle": "2024-11-23T18:13:24.714115Z",
     "shell.execute_reply": "2024-11-23T18:13:24.713974Z",
     "shell.execute_reply.started": "2024-11-23T18:13:24.713957Z"
    },
    "papermill": {
     "duration": null,
     "end_time": null,
     "exception": null,
     "start_time": null,
     "status": "pending"
    },
    "tags": []
   },
   "outputs": [],
   "source": [
    "plt.plot(hist.history['accuracy'], label= 'train accuracy')\n",
    "plt.plot(hist.history['val_accuracy'], label= 'val accuracy')\n",
    "plt.legend()\n",
    "plt.show()"
   ]
  },
  {
   "cell_type": "code",
   "execution_count": null,
   "id": "25eb1114",
   "metadata": {
    "execution": {
     "iopub.status.busy": "2024-11-23T18:13:24.715490Z",
     "iopub.status.idle": "2024-11-23T18:13:24.715828Z",
     "shell.execute_reply": "2024-11-23T18:13:24.715684Z",
     "shell.execute_reply.started": "2024-11-23T18:13:24.715666Z"
    },
    "papermill": {
     "duration": null,
     "end_time": null,
     "exception": null,
     "start_time": null,
     "status": "pending"
    },
    "tags": []
   },
   "outputs": [],
   "source": [
    "def predictions(y):\n",
    "    pred = []\n",
    "    for i in range(0,len(y),100):\n",
    "        x = y[i:i+100]\n",
    "        p = np.argmax(x)\n",
    "        pred.append(p)\n",
    "    pred = np.array(pred)    \n",
    "    return pred    \n",
    "\n",
    "def accuracy(y,pr):\n",
    "    a = sum(pr==y)/ y.size\n",
    "    return a"
   ]
  },
  {
   "cell_type": "code",
   "execution_count": null,
   "id": "c8afdfd8",
   "metadata": {
    "execution": {
     "iopub.status.busy": "2024-11-23T18:13:24.716844Z",
     "iopub.status.idle": "2024-11-23T18:13:24.717252Z",
     "shell.execute_reply": "2024-11-23T18:13:24.717038Z",
     "shell.execute_reply.started": "2024-11-23T18:13:24.717019Z"
    },
    "papermill": {
     "duration": null,
     "end_time": null,
     "exception": null,
     "start_time": null,
     "status": "pending"
    },
    "tags": []
   },
   "outputs": [],
   "source": [
    "ypred = CNN.predict(test).reshape(-1)\n",
    "pred = predictions(ypred)\n",
    "accuracy(Yt,pred)"
   ]
  }
 ],
 "metadata": {
  "kaggle": {
   "accelerator": "none",
   "dataSources": [],
   "dockerImageVersionId": 30786,
   "isGpuEnabled": false,
   "isInternetEnabled": true,
   "language": "python",
   "sourceType": "notebook"
  },
  "kernelspec": {
   "display_name": "base",
   "language": "python",
   "name": "python3"
  },
  "language_info": {
   "codemirror_mode": {
    "name": "ipython",
    "version": 3
   },
   "file_extension": ".py",
   "mimetype": "text/x-python",
   "name": "python",
   "nbconvert_exporter": "python",
   "pygments_lexer": "ipython3",
   "version": "3.12.7"
  },
  "papermill": {
   "default_parameters": {},
   "duration": 22.427791,
   "end_time": "2024-11-25T09:00:56.276717",
   "environment_variables": {},
   "exception": true,
   "input_path": "__notebook__.ipynb",
   "output_path": "__notebook__.ipynb",
   "parameters": {},
   "start_time": "2024-11-25T09:00:33.848926",
   "version": "2.6.0"
  }
 },
 "nbformat": 4,
 "nbformat_minor": 5
}
